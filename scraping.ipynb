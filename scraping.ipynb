{
 "cells": [
  {
   "cell_type": "markdown",
   "metadata": {},
   "source": [
    "# Assignment 1: Web Scraping"
   ]
  },
  {
   "cell_type": "markdown",
   "metadata": {},
   "source": [
    "## Objective"
   ]
  },
  {
   "cell_type": "markdown",
   "metadata": {},
   "source": [
    "Data scientists often need to crawl data from websites and turn the crawled data (HTML pages) to structured data (tables). Thus, web scraping is an essential skill that every data scientist should master. In this assignment, you will learn the followings:\n",
    "\n",
    "\n",
    "* How to use [requests](http://www.python-requests.org/en/master/) to download HTML pages from a website?\n",
    "* How to select content on a webpage with [lxml](http://lxml.de/)? \n",
    "\n",
    "You can either use Spark DataFrame or [pandas.DataFrame](http://pandas.pydata.org/pandas-docs/stable/generated/pandas.DataFrame.html) to do the assignment. In comparison, pandas.DataFrame has richer APIs, but is not good at distributed computing."
   ]
  },
  {
   "cell_type": "markdown",
   "metadata": {},
   "source": [
    "## Preliminary"
   ]
  },
  {
   "cell_type": "markdown",
   "metadata": {},
   "source": [
    "If this is your first time to write a web scraper, you need to learn some basic knowledge of HTML, DOM, and XPath. I found that this is a good resource: [https://data-lessons.github.io/library-webscraping/](https://data-lessons.github.io/library-webscraping/). Please take a look at\n",
    "\n",
    "* [Selecting content on a web page with XPath\n",
    "](https://data-lessons.github.io/library-webscraping/xpath/)\n",
    "* [Web scraping using Python: requests and lxml](https://data-lessons.github.io/library-webscraping/04-lxml/). \n",
    "\n",
    "Please let me know if you find a better resource. I'll share it with the other students."
   ]
  },
  {
   "cell_type": "markdown",
   "metadata": {},
   "source": [
    "## Overview"
   ]
  },
  {
   "cell_type": "markdown",
   "metadata": {},
   "source": [
    "Imagine you are a data scientist working at SFU. One day, you want to analyze CS faculty data and answer two interesting questions:\n",
    "\n",
    "1. Who are the CS faculty members?\n",
    "2. What are their research interests?\n",
    "\n",
    "To do so, the first thing is to figure out what data to collect."
   ]
  },
  {
   "cell_type": "markdown",
   "metadata": {},
   "source": [
    "## Task 1: SFU CS Faculty Members"
   ]
  },
  {
   "cell_type": "markdown",
   "metadata": {},
   "source": [
    "You find that there is a web page in the CS school website, which lists all the faculty members as well as their basic information. \n",
    "\n",
    "In Task 1, your job is to write a web scraper to extract the faculty information from this page: [https://www.sfu.ca/computing/people/faculty.html](https://www.sfu.ca/computing/people/faculty.html).\n",
    "\n",
    "\n"
   ]
  },
  {
   "cell_type": "markdown",
   "metadata": {},
   "source": [
    "### (a) Crawling Web Page"
   ]
  },
  {
   "cell_type": "markdown",
   "metadata": {},
   "source": [
    "A web page is essentially a file stored in a remote machine (called web server). You can use [requests](http://www.python-requests.org/en/master/) to open such a file and read data from it. Please complete the following code to download the HTML page and save it as a text file (like [this](./faculty.txt)). "
   ]
  },
  {
   "cell_type": "code",
   "execution_count": 1,
   "metadata": {},
   "outputs": [],
   "source": [
    "import requests\n",
    "# 1. Download the webpage\n",
    "response = requests.get('https://www.sfu.ca/computing/people/faculty.html')\n",
    "# 2. Save it as a text file (named faculty.txt)\n",
    "file = open('faculty.txt','w')\n",
    "file.write(response.text)\n",
    "file.close()"
   ]
  },
  {
   "cell_type": "markdown",
   "metadata": {},
   "source": [
    "### (b) Extracting Structured Data"
   ]
  },
  {
   "cell_type": "markdown",
   "metadata": {},
   "source": [
    "An HTML page follows the Document Object Model (DOM). It models an HTML page as a tree structure wherein each node is an object representing a part of the page. The nodes can be searched and extracted programmatically using XPath. Please complete the following code to transform the above HTML page to a CSV file (like [this](./faculty_table.csv)). "
   ]
  },
  {
   "cell_type": "code",
   "execution_count": 2,
   "metadata": {},
   "outputs": [],
   "source": [
    "import lxml.html \n",
    "import pandas as pd\n",
    "\n",
    "# 1. Open faculty.txt\n",
    "file = open('faculty.txt','r')\n",
    "# 2. Parse the HTML page as a tree structure\n",
    "tree = lxml.html.fromstring(file.read())\n",
    "# 3. Extract related content from the tree using XPath\n",
    "info = tree.xpath('//div[contains(@class, \"text\")]/p[1]')\n",
    "names = tree.xpath('//div[contains(@class, \"text\")]/h4[1]')\n",
    "home= tree.xpath('//div[contains(@class, \"text\")]/h4[1]')\n",
    "facultyName=[]\n",
    "position=[]\n",
    "for name in names:\n",
    "    name_rank=name.text_content()\n",
    "    attr=name_rank.split(',')\n",
    "    facultyName.append(attr[0].strip())\n",
    "    position.append(attr[1].split('\\n')[0].strip())   \n",
    "facultyArea=[]\n",
    "for inf in info:\n",
    "    area=inf.text_content()\n",
    "    facultyArea.append(area.split(':')[1].split('\\n')[0].strip()) \n",
    "start_url = 'http://www.sfu.ca/'\n",
    "profile = tree.xpath('//div[contains(@class, \"text\")]/p/a[1]')\n",
    "start_url = 'http://www.sfu.ca/'\n",
    "profiles=[]\n",
    "homepages=[]\n",
    "for link in profile:\n",
    "    if(link.text==\"Profile & Contact Information\"):\n",
    "        if((str(link.attrib['href']).startswith('/computing')==1)):\n",
    "            faculty_url = requests.compat.urljoin(start_url, link.attrib['href'])\n",
    "            profiles.append(faculty_url)\n",
    "        else:\n",
    "            profiles.append(link.attrib['href']) \n",
    "        if(link.getnext()==None):\n",
    "            homepages.append('')\n",
    "        else:\n",
    "            if(link.getnext().tag=='a'):\n",
    "                homepages.append(link.getnext().attrib['href'])\n",
    "            else:\n",
    "                homepages.append('')\n",
    "# 4. Save the extracted content as an csv file (named faculty_table.csv)\n",
    "df = pd.DataFrame()\n",
    "df['name']=facultyName\n",
    "df['rank']=position\n",
    "df['area']=facultyArea\n",
    "df['profile']=profiles\n",
    "df['homepage']=homepages\n",
    "df.to_csv('faculty_table.csv',index=False)"
   ]
  },
  {
   "cell_type": "markdown",
   "metadata": {},
   "source": [
    "## Task 2: Research Interests"
   ]
  },
  {
   "cell_type": "markdown",
   "metadata": {},
   "source": [
    "Suppose you want to know the research interests of each faculty. However, the above crawled web page does not contain such information. "
   ]
  },
  {
   "cell_type": "markdown",
   "metadata": {},
   "source": [
    "### (a) Crawling Web Page"
   ]
  },
  {
   "cell_type": "markdown",
   "metadata": {},
   "source": [
    "You notice that such information can be found on the profile page of each faculty. For example, you can find the research interests of Dr. Jiannan Wang from [http://www.sfu.ca/computing/people/faculty/jiannanwang.html](http://www.sfu.ca/computing/people/faculty/jiannanwang.html). \n",
    "\n",
    "\n",
    "Please complete the following code to download the profile pages and save them as text files. There are 56 faculties, so you need to download 56 web pages in total. "
   ]
  },
  {
   "cell_type": "code",
   "execution_count": 3,
   "metadata": {},
   "outputs": [],
   "source": [
    "import requests\n",
    "import pandas as pd\n",
    "\n",
    "# 1. Download the profile pages of 56 faculties\n",
    "# 2. Save each page as a text file\n",
    "df=pd.read_csv('faculty_table.csv')\n",
    "pages=[]\n",
    "for i in df['profile']:            \n",
    "    response = requests.get(i)\n",
    "    file = open(i.split('/')[-1].split('.')[0]+'.txt','w')\n",
    "    pages.append(i.split('/')[-1].split('.')[0]+'.txt')\n",
    "    ## Saving as Text Page\n",
    "    file.write(response.text)\n",
    "    file.close()"
   ]
  },
  {
   "cell_type": "markdown",
   "metadata": {},
   "source": [
    "### (b) Extracting Structured Data"
   ]
  },
  {
   "cell_type": "markdown",
   "metadata": {},
   "source": [
    "Please complete the following code to extract the research interests of each faculty, and generate a file like [this](./faculty_more_table.csv). "
   ]
  },
  {
   "cell_type": "code",
   "execution_count": 15,
   "metadata": {},
   "outputs": [],
   "source": [
    "import lxml.html \n",
    "\n",
    "# 1. Open each text file and parse it as a tree structure\n",
    "# 2. Extract the research interests from each tree using XPath\n",
    "# 3. Add the extracted content to faculty_table.csv\n",
    "# 4. Generate a new CSV file, named faculty_more_table.csv\n",
    "interest=[]\n",
    "for page in pages:\n",
    "    file = open(page,'r') \n",
    "    tree = lxml.html.fromstring(file.read())\n",
    "    research = tree.xpath('//div/h2[starts-with(.,\"Research\")]')\n",
    "    word='['\n",
    "    var=[]\n",
    "    if(len(research)>1):      \n",
    "        for i in research:\n",
    "            if(i.getnext().tag=='ul'):\n",
    "                ch=i.getnext().getchildren()\n",
    "                for j in ch:\n",
    "                    if(j==ch[-1]):\n",
    "                        word+=j.text_content().strip()\n",
    "                    else:\n",
    "                        word+=j.text_content().strip()+','+' '\n",
    "            word+=','+' '\n",
    "        word=word.strip(\", \")\n",
    "        word+=']'\n",
    "        interest.append(word.replace(\"\\xa0\",\"\"))\n",
    "    elif(len(research)==0):\n",
    "        interest.append(var)\n",
    "    else:\n",
    "        for i in research:\n",
    "            if(i.getnext().tag=='ul'):\n",
    "                ch=i.getnext().getchildren()\n",
    "                for j in ch:\n",
    "                    if(j==ch[-1]):\n",
    "                        word+=j.text_content().strip()+']'\n",
    "                    else:\n",
    "                        word+=j.text_content().strip()+','+' '\n",
    "                interest.append(word.replace(\"\\xa0\",\"\"))\n",
    "            else:\n",
    "                interest.append(var)\n",
    "df['research_interests']=interest\n",
    "df.to_csv('faculty_more_table.csv',index=False)"
   ]
  },
  {
   "cell_type": "markdown",
   "metadata": {},
   "source": [
    "## Submission"
   ]
  },
  {
   "cell_type": "markdown",
   "metadata": {},
   "source": [
    "Complete the code in this [notebook](A1.ipynb), and submit it to the CourSys activity [Assignment 1](https://courses.cs.sfu.ca/2018sp-cmpt-733-g1/+a1/)."
   ]
  }
 ],
 "metadata": {
  "kernelspec": {
   "display_name": "Python 3",
   "language": "python",
   "name": "python3"
  },
  "language_info": {
   "codemirror_mode": {
    "name": "ipython",
    "version": 3
   },
   "file_extension": ".py",
   "mimetype": "text/x-python",
   "name": "python",
   "nbconvert_exporter": "python",
   "pygments_lexer": "ipython3",
   "version": "3.6.0"
  }
 },
 "nbformat": 4,
 "nbformat_minor": 1
}
